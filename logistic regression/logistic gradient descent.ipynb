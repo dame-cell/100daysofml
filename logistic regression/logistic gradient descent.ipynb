{
 "cells": [
  {
   "cell_type": "code",
   "execution_count": 2,
   "id": "df5f12b6",
   "metadata": {},
   "outputs": [],
   "source": [
    "import numpy as np\n",
    "import pandas as pd \n",
    "import matplotlib.pyplot as plt"
   ]
  },
  {
   "cell_type": "code",
   "execution_count": 27,
   "id": "36687ff9",
   "metadata": {},
   "outputs": [],
   "source": [
    "data = {\n",
    "    \"1\": ['x11', 'x21', 'x31', 'xn1'],\n",
    "    \"2\": ['x12', 'x22', 'x32', 'xn2'],\n",
    "    \"3\": ['x13', 'x23', 'x33', 'xn3'],\n",
    "    \"n\": ['x1m', 'x2m', 'x3m', 'xnm'],\n",
    "    \"target\": ['y1', 'y2', 'y3', 'yn']\n",
    "}"
   ]
  },
  {
   "cell_type": "code",
   "execution_count": 28,
   "id": "8a521abc",
   "metadata": {},
   "outputs": [],
   "source": [
    "df = pd.DataFrame(data)"
   ]
  },
  {
   "cell_type": "code",
   "execution_count": 29,
   "id": "04120384",
   "metadata": {},
   "outputs": [
    {
     "data": {
      "text/html": [
       "<div>\n",
       "<style scoped>\n",
       "    .dataframe tbody tr th:only-of-type {\n",
       "        vertical-align: middle;\n",
       "    }\n",
       "\n",
       "    .dataframe tbody tr th {\n",
       "        vertical-align: top;\n",
       "    }\n",
       "\n",
       "    .dataframe thead th {\n",
       "        text-align: right;\n",
       "    }\n",
       "</style>\n",
       "<table border=\"1\" class=\"dataframe\">\n",
       "  <thead>\n",
       "    <tr style=\"text-align: right;\">\n",
       "      <th></th>\n",
       "      <th>1</th>\n",
       "      <th>2</th>\n",
       "      <th>3</th>\n",
       "      <th>n</th>\n",
       "      <th>target</th>\n",
       "    </tr>\n",
       "  </thead>\n",
       "  <tbody>\n",
       "    <tr>\n",
       "      <th>0</th>\n",
       "      <td>x11</td>\n",
       "      <td>x12</td>\n",
       "      <td>x13</td>\n",
       "      <td>x1m</td>\n",
       "      <td>y1</td>\n",
       "    </tr>\n",
       "    <tr>\n",
       "      <th>1</th>\n",
       "      <td>x21</td>\n",
       "      <td>x22</td>\n",
       "      <td>x23</td>\n",
       "      <td>x2m</td>\n",
       "      <td>y2</td>\n",
       "    </tr>\n",
       "    <tr>\n",
       "      <th>2</th>\n",
       "      <td>x31</td>\n",
       "      <td>x32</td>\n",
       "      <td>x33</td>\n",
       "      <td>x3m</td>\n",
       "      <td>y3</td>\n",
       "    </tr>\n",
       "    <tr>\n",
       "      <th>3</th>\n",
       "      <td>xn1</td>\n",
       "      <td>xn2</td>\n",
       "      <td>xn3</td>\n",
       "      <td>xnm</td>\n",
       "      <td>yn</td>\n",
       "    </tr>\n",
       "  </tbody>\n",
       "</table>\n",
       "</div>"
      ],
      "text/plain": [
       "     1    2    3    n target\n",
       "0  x11  x12  x13  x1m     y1\n",
       "1  x21  x22  x23  x2m     y2\n",
       "2  x31  x32  x33  x3m     y3\n",
       "3  xn1  xn2  xn3  xnm     yn"
      ]
     },
     "execution_count": 29,
     "metadata": {},
     "output_type": "execute_result"
    }
   ],
   "source": [
    "df"
   ]
  },
  {
   "attachments": {},
   "cell_type": "markdown",
   "id": "503c370e",
   "metadata": {},
   "source": [
    "## let ' s assume we have those numbers or rows and  columns above us and the target columns \n",
    "\n",
    "now we need to predict the first row which is y_hat and so on for all the rows using the Coefficient \n",
    "\n",
    "the formula is : \n",
    "\n",
    "w1 x11 + w2 x12 + w3 x13 + ...... wm x1m  + w0\n",
    "\n",
    "where w represent the Coefficient and the x are the features and w0 is the bias\n",
    "\n",
    "and then we pass it to the sigmoid function \n",
    "\n",
    "sigmoid(w1 x11 + w2 x12 + w3 x13 + ...... wm x1m  + w0)\n",
    "\n",
    "then we just do the same for all the rows \n",
    "\n",
    "while doing all of this we get a matrix of y_hat\n",
    "\n",
    "\n",
    "To calculate the predicted value, denoted as y_hat, \n",
    "\n",
    "you need to apply the sigmoid function to a linear combination of the features in the matrix. \n",
    "\n",
    "Each feature (x11, x12, etc.) is multiplied by its corresponding weight (w1, w2, etc.) and summed together, including a bias term (w0). \n",
    "\n",
    "Additionally, a constant 1 is multiplied by a bias weight (w0). The resulting linear combination is then passed through the sigmoid function.\n",
    "\n",
    "In summary, the process to obtain y_hat can be described as follows:\n",
    "\n",
    "* Multiply each feature in the matrix by its corresponding weight.\n",
    "\n",
    "* Include a bias term (w0) by multiplying a constant 1 by the bias weight.\n",
    "\n",
    "* Sum all the weighted features and the bias term.\n",
    "\n",
    "* Apply the sigmoid function to the resulting linear combination.\n",
    "\n",
    "* This process results in the predicted value, y_hat, which represents the output of the sigmoid function applied to the linear combination of features and weights.\n",
    "\n",
    "\n",
    "and the end formula will be \n",
    "\n",
    "## y_hat = sigmoid(x w) \n"
   ]
  },
  {
   "cell_type": "markdown",
   "id": "12e80d22",
   "metadata": {},
   "source": [
    "### the log_loss for logistic regression\n",
    "\n",
    "you can check it out on goggle which is very short\n",
    "\n",
    "https://developers.google.com/machine-learning/crash-course/logistic-regression/model-training"
   ]
  },
  {
   "attachments": {},
   "cell_type": "markdown",
   "id": "ba8615fb",
   "metadata": {},
   "source": [
    "## the log loss function in Matrix form \n",
    "\n",
    "\n",
    "\n",
    "\n",
    "## now using this we will apply gradient descent \n",
    "\n",
    "where the formula is \n",
    "\n",
    "w_new = w_old - learning_rate  delta l / delta w \n",
    "\n",
    "\n",
    "\"Now, using this formula, we can apply gradient descent to update the weight vector in logistic regression. The updated weight vector, denoted as w_new, is obtained by subtracting the product of the learning rate and the gradients of the log loss function with respect to the weights, delta l / delta w, from the previous weight vector w_old."
   ]
  },
  {
   "cell_type": "code",
   "execution_count": null,
   "id": "1b9f297e",
   "metadata": {},
   "outputs": [],
   "source": [
    "n"
   ]
  }
 ],
 "metadata": {
  "kernelspec": {
   "display_name": "100daysofmlkernel",
   "language": "python",
   "name": "100daysofmlkernel"
  },
  "language_info": {
   "codemirror_mode": {
    "name": "ipython",
    "version": 3
   },
   "file_extension": ".py",
   "mimetype": "text/x-python",
   "name": "python",
   "nbconvert_exporter": "python",
   "pygments_lexer": "ipython3",
   "version": "3.11.3"
  }
 },
 "nbformat": 4,
 "nbformat_minor": 5
}
